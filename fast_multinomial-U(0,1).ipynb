{
 "cells": [
  {
   "cell_type": "code",
   "execution_count": 125,
   "metadata": {},
   "outputs": [],
   "source": [
    "import numpy as np\n",
    "import matplotlib.pyplot as plt\n",
    "import bisect\n",
    "from collections import Counter"
   ]
  },
  {
   "cell_type": "code",
   "execution_count": 126,
   "metadata": {},
   "outputs": [],
   "source": [
    "#parameters\n",
    "\n",
    "n = 20 #number of trials\n",
    "p_vector = [0.05, 0.15, 0.15, 0.65] #respective probabilities of success\n",
    "x_vector = [\"x1\",\"x2\",\"x3\", \"x4\"] #names of outcomes"
   ]
  },
  {
   "cell_type": "code",
   "execution_count": 127,
   "metadata": {},
   "outputs": [],
   "source": [
    "#Single time calculations of all x values in CDF\n",
    "\n",
    "dimension = len(p_vector)\n",
    "cdf_values = np.zeros(dimension)\n",
    "total = 0\n",
    "\n",
    "for i in range(0,dimension):\n",
    "    total += p_vector[i]\n",
    "    cdf_values[i] = total"
   ]
  },
  {
   "cell_type": "code",
   "execution_count": 128,
   "metadata": {},
   "outputs": [
    {
     "name": "stdout",
     "output_type": "stream",
     "text": [
      "x4 was realized\n"
     ]
    }
   ],
   "source": [
    "#using one U(0,1) number, sample from a multinomial(n,p)\n",
    "\n",
    "unif_num = np.random.uniform(0,1) #single uniform U(0,1) realization\n",
    "\n",
    "successes = bisect.bisect_left(cdf_values, unif_num) #use binary search to find the number of successes\n",
    "\n",
    "print(f\"x{successes+1} was realized\")"
   ]
  },
  {
   "cell_type": "code",
   "execution_count": 129,
   "metadata": {},
   "outputs": [],
   "source": [
    "#repeat this sampling process many times to approximate the PMF\n",
    "\n",
    "repititions = 10000 #amount of binomials to realize to approximate PMF\n",
    "\n",
    "arr_unif_num = np.random.uniform(0,1,repititions) #uniform U(0,1) realization stored in an array\n",
    "arr_successes = np.zeros(repititions)\n",
    "\n",
    "for i in range(0, repititions):\n",
    "    arr_successes[i] = bisect.bisect_left(cdf_values, arr_unif_num[i]) #fill array wuth number of successes\n",
    "\n",
    "result_dict = Counter(arr_successes) #use a dictionary to match key value pairs\n",
    "\n",
    "for j in result_dict:\n",
    "    result_dict[j] = result_dict[j] / repititions #reformat as percentage"
   ]
  },
  {
   "cell_type": "code",
   "execution_count": 130,
   "metadata": {},
   "outputs": [
    {
     "data": {
      "image/png": "[encoded data removed]",
      "text/plain": [
       "<Figure size 640x480 with 1 Axes>"
      ]
     },
     "metadata": {},
     "output_type": "display_data"
    }
   ],
   "source": [
    "#chart the PMF approximation\n",
    "\n",
    "x_axis_titles = list(result_dict.keys()) #element realized\n",
    "heights = list(result_dict.values()) #percentage of realizations occuring at each element\n",
    "\n",
    "plt.title(\"Multinomial Realizations PMF\")\n",
    "plt.bar(x_axis_titles, heights)\n",
    "plt.xticks(x_axis_titles, x_vector)\n",
    "\n",
    "plt.show()"
   ]
  }
 ],
 "metadata": {
  "kernelspec": {
   "display_name": "Python 3",
   "language": "python",
   "name": "python3"
  },
  "language_info": {
   "codemirror_mode": {
    "name": "ipython",
    "version": 3
   },
   "file_extension": ".py",
   "mimetype": "text/x-python",
   "name": "python",
   "nbconvert_exporter": "python",
   "pygments_lexer": "ipython3",
   "version": "3.10.4"
  }
 },
 "nbformat": 4,
 "nbformat_minor": 2
}
