{
 "cells": [
  {
   "cell_type": "code",
   "execution_count": 14,
   "metadata": {},
   "outputs": [],
   "source": [
    "import numpy as np\n",
    "import matplotlib.pyplot as plt"
   ]
  },
  {
   "cell_type": "code",
   "execution_count": 15,
   "metadata": {},
   "outputs": [],
   "source": [
    "# Multinomial Distribution realizing from a continuous uniform distribution between (0 and 1)\n",
    "\n",
    "#parameters\n",
    "n = 1000000 #total number of realizations\n",
    "p_vector = [0.05, 0.15, 0.15, 0.65] #respective probabilities of success\n",
    "x_vector = [\"x1\",\"x2\",\"x3\", \"x4\"] #names of outcomes\n",
    "\n",
    "unif_num = np.random.uniform(0,1,n) #uniform values stored in an array\n",
    "\n",
    "num_of_outcomes = len(p_vector) #amount of possible outcomes\n",
    "tally = np.zeros(num_of_outcomes) #amount of each outcome realized\n",
    "p_tally = tally #percentage of each outcome realized\n",
    "\n",
    "num_counted = 0 #realizations counted\n",
    "\n",
    "#if the value is less than p consider the realization a success\n",
    "for i in range(n):\n",
    "\n",
    "    j=0 #values of p_vector to sum until for outcome x_j\n",
    "    sum_to_j = p_vector[0] #The sum of j values in p-vector represents the probability the realization is in zone j\n",
    "\n",
    "    while(num_counted <= i):\n",
    "\n",
    "        if(sum_to_j > unif_num[i]): #if a success in jth zone\n",
    "            tally[j]+=1 #jth zone is incremented\n",
    "            num_counted+=1 #count the realization\n",
    "\n",
    "        else:\n",
    "            j+=1 #move to next zone\n",
    "            sum_to_j += p_vector[j] #add appropriate probability value for next zone\n",
    "\n",
    "#fill array with percentages of successes\n",
    "for i in range(num_of_outcomes):\n",
    "    p_tally[i] = tally[i] / n"
   ]
  },
  {
   "cell_type": "code",
   "execution_count": 16,
   "metadata": {},
   "outputs": [
    {
     "data": {
      "image/png": "[encoded data removed]",
      "text/plain": [
       "<Figure size 640x480 with 1 Axes>"
      ]
     },
     "metadata": {},
     "output_type": "display_data"
    }
   ],
   "source": [
    "positions = range(len(p_vector))\n",
    "\n",
    "plt.title(\"Multinomial Realizations PMF\")\n",
    "plt.bar(positions, p_tally)\n",
    "plt.xticks(positions, x_vector)\n",
    "plt.ylim(0,1)\n",
    "\n",
    "plt.show()"
   ]
  }
 ],
 "metadata": {
  "kernelspec": {
   "display_name": "Python 3",
   "language": "python",
   "name": "python3"
  },
  "language_info": {
   "codemirror_mode": {
    "name": "ipython",
    "version": 3
   },
   "file_extension": ".py",
   "mimetype": "text/x-python",
   "name": "python",
   "nbconvert_exporter": "python",
   "pygments_lexer": "ipython3",
   "version": "3.10.4"
  }
 },
 "nbformat": 4,
 "nbformat_minor": 2
}
