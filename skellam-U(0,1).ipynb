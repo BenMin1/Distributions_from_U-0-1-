{
 "cells": [
  {
   "cell_type": "code",
   "execution_count": 88,
   "metadata": {},
   "outputs": [],
   "source": [
    "import numpy as np\n",
    "import matplotlib.pyplot as plt\n",
    "import math\n",
    "from collections import Counter"
   ]
  },
  {
   "cell_type": "code",
   "execution_count": 85,
   "metadata": {},
   "outputs": [],
   "source": [
    "#parameters\n",
    "lambda_param = 1 #rate parameter for first poisson DGP\n",
    "lambda_param2 = 3 #rate parameter for second poisson DGP\n",
    "\n",
    "n = 100000 #amount of uniform realizations\n",
    "\n",
    "cutoff = n/10000 #percentage that is deemed negligible\n",
    "\n",
    "unif_num = np.random.uniform(0,1,n) #uniform realizations stored in an array\n",
    "unif_num2 = np.random.uniform(0,1,n) #uniform realizations stored in an array\n",
    "\n",
    "wait_time = np.zeros(n) #iid exponential wait times\n",
    "\n",
    "arr_events = [] #array to store number of poisson events per interval for the first DGP\n",
    "arr_events2 = [] #array to store number of poisson events per interval for the second DGP\n",
    "\n",
    "time = 0 \n",
    "current_events = 0\n",
    "\n",
    "#add wait times until they total over one time interval adding the occurred events to the array\n",
    "for i in range (n):\n",
    "\n",
    "    wait_time[i] = -math.log(unif_num[i]) / lambda_param #transform U(0,1) to wait times for poisson\n",
    "    time += wait_time[i] #add wait time to get to the next poisson event\n",
    "\n",
    "    if(time < 1): #if the next event occured in the interval\n",
    "\n",
    "        current_events +=1 #increment events in this interval\n",
    "\n",
    "    if(time > 1): #if the next event happened after the interval\n",
    "\n",
    "        arr_events.append(current_events) #add number of occurred events to the array\n",
    "        time = 0 #reset time to 0\n",
    "        current_events = 0 #reset events to 0\n",
    "\n",
    "time = 0 \n",
    "current_events = 0\n",
    "\n",
    "for i in range (n):\n",
    "\n",
    "    wait_time[i] = -math.log(unif_num2[i]) / lambda_param2 #transform U(0,1) to wait times for poisson\n",
    "    time += wait_time[i] #add wait time to get to the next poisson event\n",
    "\n",
    "    if(time < 1): #if the next event occured in the interval\n",
    "\n",
    "        current_events +=1 #increment events in this interval\n",
    "\n",
    "    if(time > 1): #if the next event happened after the interval\n",
    "\n",
    "        arr_events2.append(current_events) #add number of occurred events to the array\n",
    "        time = 0 #reset time to 0\n",
    "        current_events = 0 #reset events to 0"
   ]
  },
  {
   "cell_type": "code",
   "execution_count": 86,
   "metadata": {},
   "outputs": [],
   "source": [
    "#find size of smaller array to subtract the correct amount of times\n",
    "if(len(arr_events) > len(arr_events2)):\n",
    "    length = len(arr_events2)\n",
    "else:\n",
    "    length = len(arr_events)\n",
    "\n",
    "skellam_events = np.zeros(length) #array to hold differences\n",
    "\n",
    "for i in range(0, length):\n",
    "    skellam_events[i] = arr_events[i] - arr_events2[i] #fill array with differences\n",
    "\n",
    "dict_events = Counter(skellam_events) #create dictionary of key-value pairs\n",
    "\n",
    "for j in dict_events:\n",
    "\n",
    "    if(dict_events[j] > cutoff): #if not negligible\n",
    "\n",
    "        dict_events[j] = dict_events[j] * (1/length) #reformat as percentage\n",
    "    \n",
    "    else:\n",
    "        \n",
    "        dict_events[j] = 0 #set negligible values to 0"
   ]
  },
  {
   "cell_type": "code",
   "execution_count": 87,
   "metadata": {},
   "outputs": [
    {
     "data": {
      "image/png": "[encoded data removed]",
      "text/plain": [
       "<Figure size 640x480 with 1 Axes>"
      ]
     },
     "metadata": {},
     "output_type": "display_data"
    }
   ],
   "source": [
    "x_titles = list(dict_events.keys()) #number of events per interval\n",
    "heights = list(dict_events.values()) #percentages of events per interval\n",
    "plot_title = f\"Skellam ({lambda_param},{lambda_param2}) PMF approx.\"\n",
    "\n",
    "plt.title(plot_title)\n",
    "\n",
    "plt.bar(x_titles, heights)\n",
    "plt.xlim(-7, 7)\n",
    "plt.show()"
   ]
  }
 ],
 "metadata": {
  "kernelspec": {
   "display_name": "Python 3",
   "language": "python",
   "name": "python3"
  },
  "language_info": {
   "codemirror_mode": {
    "name": "ipython",
    "version": 3
   },
   "file_extension": ".py",
   "mimetype": "text/x-python",
   "name": "python",
   "nbconvert_exporter": "python",
   "pygments_lexer": "ipython3",
   "version": "3.10.4"
  }
 },
 "nbformat": 4,
 "nbformat_minor": 2
}
