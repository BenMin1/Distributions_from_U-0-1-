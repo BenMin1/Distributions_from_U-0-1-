{
 "cells": [
  {
   "cell_type": "code",
   "execution_count": 176,
   "metadata": {},
   "outputs": [],
   "source": [
    "import numpy as np\n",
    "import matplotlib.pyplot as plt\n",
    "import bisect\n",
    "from collections import Counter"
   ]
  },
  {
   "cell_type": "code",
   "execution_count": 177,
   "metadata": {},
   "outputs": [],
   "source": [
    "#parameters\n",
    "\n",
    "a = 0 #start of support\n",
    "b = 9 #end of support"
   ]
  },
  {
   "cell_type": "code",
   "execution_count": 178,
   "metadata": {},
   "outputs": [],
   "source": [
    "#Single time calculations of all x values in CDF\n",
    "\n",
    "support_amount = b-a+1 #amount of numbers in the support\n",
    "p_any_outcome = 1 / support_amount #probability of realizing any one number in the support\n",
    "\n",
    "cdf_values = np.zeros(support_amount)\n",
    "\n",
    "for i in range(support_amount):\n",
    "    cdf_values[i] = p_any_outcome * (i+1)"
   ]
  },
  {
   "cell_type": "code",
   "execution_count": 179,
   "metadata": {},
   "outputs": [
    {
     "name": "stdout",
     "output_type": "stream",
     "text": [
      "8 was realized\n"
     ]
    }
   ],
   "source": [
    "#using one U(0,1) number, sample from a uniform(a,b)\n",
    "\n",
    "unif_num = np.random.uniform(0,1) #single uniform U(0,1) realization\n",
    "\n",
    "realization = bisect.bisect_left(cdf_values, unif_num) #use binary search to find the discrete value of the realization\n",
    "\n",
    "print(f\"{realization} was realized\")"
   ]
  },
  {
   "cell_type": "code",
   "execution_count": 180,
   "metadata": {},
   "outputs": [],
   "source": [
    "#repeat this sampling process many times to approximate the PMF\n",
    "\n",
    "repititions = 100000 #amount of discrete uniform realizations to approximate PMF\n",
    "\n",
    "arr_unif_num = np.random.uniform(0,1,repititions) #uniform U(0,1) realization stored in an array\n",
    "arr_realization = np.zeros(repititions)\n",
    "\n",
    "for i in range(0, repititions):\n",
    "    arr_realization[i] = bisect.bisect_left(cdf_values, arr_unif_num[i]) #fill array wuth discrete realizations\n",
    "\n",
    "result_dict = Counter(arr_realization) #use a dictionary to match key value pairs\n",
    "\n",
    "for j in result_dict:\n",
    "    result_dict[j] = result_dict[j] / repititions #reformat as percentage"
   ]
  },
  {
   "cell_type": "code",
   "execution_count": 181,
   "metadata": {},
   "outputs": [
    {
     "data": {
      "image/png": "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",
      "text/plain": [
       "<Figure size 640x480 with 1 Axes>"
      ]
     },
     "metadata": {},
     "output_type": "display_data"
    }
   ],
   "source": [
    "#chart the PMF approximation\n",
    "\n",
    "x_axis_titles = list(result_dict.keys()) #number realized\n",
    "heights = list(result_dict.values()) #percentage of realizations occuring at x\n",
    "\n",
    "plt.title(\f"Uniform{a,b} Realizations PMF\")\n",
    "plt.bar(x_axis_titles, heights)\n",
    "plt.xlim(a-0.5, b+0.5)\n",
    "plt.ylim(0,1)\n",
    "\n",
    "plt.show()"
   ]
  }
 ],
 "metadata": {
  "kernelspec": {
   "display_name": "Python 3",
   "language": "python",
   "name": "python3"
  },
  "language_info": {
   "codemirror_mode": {
    "name": "ipython",
    "version": 3
   },
   "file_extension": ".py",
   "mimetype": "text/x-python",
   "name": "python",
   "nbconvert_exporter": "python",
   "pygments_lexer": "ipython3",
   "version": "3.10.4"
  }
 },
 "nbformat": 4,
 "nbformat_minor": 2
}
