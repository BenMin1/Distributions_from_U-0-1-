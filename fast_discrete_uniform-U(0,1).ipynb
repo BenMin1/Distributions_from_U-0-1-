{
 "cells": [
  {
   "cell_type": "code",
   "execution_count": 183,
   "metadata": {},
   "outputs": [],
   "source": [
    "import numpy as np\n",
    "import matplotlib.pyplot as plt\n",
    "import bisect\n",
    "from collections import Counter"
   ]
  },
  {
   "cell_type": "code",
   "execution_count": 184,
   "metadata": {},
   "outputs": [],
   "source": [
    "#parameters\n",
    "\n",
    "a = 0 #start of support\n",
    "b = 9 #end of support"
   ]
  },
  {
   "cell_type": "code",
   "execution_count": 185,
   "metadata": {},
   "outputs": [],
   "source": [
    "#Single time calculations of all x values in CDF\n",
    "\n",
    "support_amount = b-a+1 #amount of numbers in the support\n",
    "p_any_outcome = 1 / support_amount #probability of realizing any one number in the support\n",
    "\n",
    "cdf_values = np.zeros(support_amount)\n",
    "\n",
    "for i in range(support_amount):\n",
    "    cdf_values[i] = p_any_outcome * (i+1)"
   ]
  },
  {
   "cell_type": "code",
   "execution_count": 186,
   "metadata": {},
   "outputs": [
    {
     "name": "stdout",
     "output_type": "stream",
     "text": [
      "6 was realized\n"
     ]
    }
   ],
   "source": [
    "#using one U(0,1) number, sample from a uniform(a,b)\n",
    "\n",
    "unif_num = np.random.uniform(0,1) #single uniform U(0,1) realization\n",
    "\n",
    "realization = bisect.bisect_left(cdf_values, unif_num) #use binary search to find the discrete value of the realization\n",
    "\n",
    "print(f\"{realization} was realized\")"
   ]
  },
  {
   "cell_type": "code",
   "execution_count": 187,
   "metadata": {},
   "outputs": [],
   "source": [
    "#repeat this sampling process many times to approximate the PMF\n",
    "\n",
    "repititions = 100000 #amount of discrete uniform realizations to approximate PMF\n",
    "\n",
    "arr_unif_num = np.random.uniform(0,1,repititions) #uniform U(0,1) realization stored in an array\n",
    "arr_realization = np.zeros(repititions)\n",
    "\n",
    "for i in range(0, repititions):\n",
    "    arr_realization[i] = bisect.bisect_left(cdf_values, arr_unif_num[i]) #fill array wuth discrete realizations\n",
    "\n",
    "result_dict = Counter(arr_realization) #use a dictionary to match key value pairs\n",
    "\n",
    "for j in result_dict:\n",
    "    result_dict[j] = result_dict[j] / repititions #reformat as percentage"
   ]
  },
  {
   "cell_type": "code",
   "execution_count": 188,
   "metadata": {},
   "outputs": [
    {
     "data": {
      "image/png": "[encoded data removed]",
      "text/plain": [
       "<Figure size 640x480 with 1 Axes>"
      ]
     },
     "metadata": {},
     "output_type": "display_data"
    }
   ],
   "source": [
    "#chart the PMF approximation\n",
    "\n",
    "x_axis_titles = list(result_dict.keys()) #number realized\n",
    "heights = list(result_dict.values()) #percentage of number realized\n",
    "\n",
    "plt.title(f\"Uniform{a,b} Realizations PMF\")\n",
    "plt.bar(x_axis_titles, heights)\n",
    "plt.xlim(a-0.5, b+0.5)\n",
    "plt.ylim(0,1)\n",
    "\n",
    "plt.show()"
   ]
  }
 ],
 "metadata": {
  "kernelspec": {
   "display_name": "Python 3",
   "language": "python",
   "name": "python3"
  },
  "language_info": {
   "codemirror_mode": {
    "name": "ipython",
    "version": 3
   },
   "file_extension": ".py",
   "mimetype": "text/x-python",
   "name": "python",
   "nbconvert_exporter": "python",
   "pygments_lexer": "ipython3",
   "version": "3.10.4"
  }
 },
 "nbformat": 4,
 "nbformat_minor": 2
}
