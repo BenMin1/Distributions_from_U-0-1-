{
 "cells": [
  {
   "cell_type": "code",
   "execution_count": 114,
   "metadata": {},
   "outputs": [],
   "source": [
    "import numpy as np\n",
    "import matplotlib.pyplot as plt\n",
    "import scipy.stats as sp\n",
    "import bisect\n",
    "from collections import Counter"
   ]
  },
  {
   "cell_type": "code",
   "execution_count": 115,
   "metadata": {},
   "outputs": [],
   "source": [
    "#parameters\n",
    "\n",
    "n = 20 #number of trials\n",
    "p = 0.6 #probability of success"
   ]
  },
  {
   "cell_type": "code",
   "execution_count": 116,
   "metadata": {},
   "outputs": [],
   "source": [
    "#Single time calculations of all x values in CDF\n",
    "\n",
    "cdf_values = []\n",
    "i = 0\n",
    "\n",
    "while(sp.geom.cdf(i+1,p) < 0.9999): #fill until the cdf sums to 0.9999\n",
    "    cdf_values.append(sp.geom.cdf(i+1,p)) #add cdf value for i\n",
    "    i+=1 #increment i"
   ]
  },
  {
   "cell_type": "code",
   "execution_count": 120,
   "metadata": {},
   "outputs": [
    {
     "name": "stdout",
     "output_type": "stream",
     "text": [
      "2 fail(s) before a successes\n"
     ]
    }
   ],
   "source": [
    "#using one U(0,1) number, sample from a geometric(p)\n",
    "\n",
    "unif_num = np.random.uniform(0,1) #single uniform U(0,1) realization\n",
    "\n",
    "fails = bisect.bisect_left(cdf_values, unif_num) #use binary search to find the number of fails before a success\n",
    "\n",
    "print(f\"{fails} fail(s) before a successes\")"
   ]
  },
  {
   "cell_type": "code",
   "execution_count": 118,
   "metadata": {},
   "outputs": [],
   "source": [
    "#repeat this sampling process many times to approximate the PMF\n",
    "\n",
    "repititions = 10000 #amount of geometrics to realize to approximate PMF\n",
    "\n",
    "arr_unif_num = np.random.uniform(0,1,repititions) #uniform U(0,1) realization stored in an array\n",
    "arr_successes = np.zeros(repititions)\n",
    "\n",
    "for i in range(0, repititions):\n",
    "    arr_successes[i] = bisect.bisect_left(cdf_values, arr_unif_num[i]) #fill array wuth geometric realizations\n",
    "\n",
    "result_dict = Counter(arr_successes) #use a dictionary to match key value pairs\n",
    "\n",
    "for j in result_dict:\n",
    "    result_dict[j] = result_dict[j] / repititions #reformat as percentage"
   ]
  },
  {
   "cell_type": "code",
   "execution_count": 119,
   "metadata": {},
   "outputs": [
    {
     "data": {
      "image/png": "[encoded data removed]",
      "text/plain": [
       "<Figure size 640x480 with 1 Axes>"
      ]
     },
     "metadata": {},
     "output_type": "display_data"
    }
   ],
   "source": [
    "#chart the PMF approximation\n",
    "\n",
    "x_axis_titles = list(result_dict.keys()) #number of geometric realizations\n",
    "heights = list(result_dict.values()) #percentage of geometric realizations\n",
    "\n",
    "plt.title(f\"Geometric({p}) Realizations PMF\")\n",
    "plt.bar(x_axis_titles, heights)\n",
    "plt.xlim(-0.5, len(cdf_values)) #stops the x axis at the max value\n",
    "\n",
    "plt.show()"
   ]
  }
 ],
 "metadata": {
  "kernelspec": {
   "display_name": "Python 3",
   "language": "python",
   "name": "python3"
  },
  "language_info": {
   "codemirror_mode": {
    "name": "ipython",
    "version": 3
   },
   "file_extension": ".py",
   "mimetype": "text/x-python",
   "name": "python",
   "nbconvert_exporter": "python",
   "pygments_lexer": "ipython3",
   "version": "3.10.4"
  }
 },
 "nbformat": 4,
 "nbformat_minor": 2
}
